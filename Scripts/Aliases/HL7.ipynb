{
 "cells": [
  {
   "cell_type": "code",
   "execution_count": 1,
   "id": "76e60461",
   "metadata": {},
   "outputs": [],
   "source": [
    "import datetime\n",
    "import json\n",
    "import pickle\n",
    "import re\n",
    "from dataclasses import dataclass\n",
    "\n",
    "import requests\n",
    "from bs4 import BeautifulSoup\n",
    "\n",
    "# Disable SSL verification warnings with Requests\n",
    "requests.packages.urllib3.disable_warnings(requests.packages.urllib3.exceptions.InsecureRequestWarning)"
   ]
  },
  {
   "cell_type": "code",
   "execution_count": 2,
   "id": "53cf39a9",
   "metadata": {},
   "outputs": [],
   "source": [
    "# Define object to store alias information\n",
    "@dataclass\n",
    "class CodeSystem:\n",
    "    name: str\n",
    "    uri: str = None\n",
    "    hl7_webpage: str = None\n",
    "    alias: str = None"
   ]
  },
  {
   "cell_type": "code",
   "execution_count": 3,
   "id": "8dc10631",
   "metadata": {},
   "outputs": [],
   "source": [
    "# Load and parse code systems from terminology.hl7.org\n",
    "html = requests.get('https://terminology.hl7.org/codesystems.html', verify=False).text\n",
    "soup = BeautifulSoup(html)"
   ]
  },
  {
   "cell_type": "code",
   "execution_count": 4,
   "id": "3f38d4e7",
   "metadata": {
    "tags": []
   },
   "outputs": [
    {
     "output_type": "stream",
     "name": "stdout",
     "text": [
      "Loading code systems from \"code_systems.pickle\" cache (last updated 2021-06-15T07:02:40.951027).\n"
     ]
    }
   ],
   "source": [
    "# Get canonical URIs for each of the terminology.hl7.org code systems\n",
    "#\n",
    "# This cell may take a few minutes to run as it has to scrape around 1000 web pages.\n",
    "# To facilicate development, this cell will automatically cache its output into\n",
    "# `code_systems.pickle` (which is gitignored). Delete this file if you want to\n",
    "# refresh the code systems to match the latest version of terminology.hl7.org.\n",
    "\n",
    "try:\n",
    "    p = pickle.load(open(\"code_systems.pickle\", \"rb\"))\n",
    "    print(f\"Loading code systems from \\\"code_systems.pickle\\\" cache (last updated {p['pickled_at']}).\")\n",
    "    code_systems = p['code_systems']\n",
    "except:\n",
    "    code_systems = [CodeSystem(hl7_webpage=l['href'], name=l.text) for l in soup.select('ul li a') if l['href'].startswith('CodeSystem-')]\n",
    "\n",
    "    # Get URIs\n",
    "    for l in code_systems:\n",
    "        raw = requests.get('https://terminology.hl7.org/' + l.hl7_webpage.replace('.html', '.json'), verify=False).text\n",
    "        j = json.loads(raw)\n",
    "        l.uri = j['url']\n",
    "    \n",
    "    # Cache code systems for faster future runs where a refresh is not needed\n",
    "    pickle.dump( {\"pickled_at\": datetime.datetime.now().isoformat(), \"code_systems\": code_systems}, open(\"code_systems.pickle\", \"wb\" ) )"
   ]
  },
  {
   "cell_type": "code",
   "execution_count": 5,
   "id": "0d3004ae",
   "metadata": {},
   "outputs": [],
   "source": [
    "# Create FSH aliases for each code system\n",
    "#\n",
    "# The aliaes are based on the slugs provided on https://terminology.hl7.org/codesystems.html, or\n",
    "# a slug extracted from the canonical URI.\n",
    "\n",
    "for l in code_systems:\n",
    "    # If this is a THO code system, use the slug from that\n",
    "    if l.uri.startswith('http://terminology.hl7.org'):\n",
    "        l.alias = l.uri.replace('http://terminology.hl7.org/CodeSystem/', '')\n",
    "    \n",
    "    # Otherwise, use the slug from the HL7 webpage filename for the code system\n",
    "    else:\n",
    "        l.alias = l.hl7_webpage.replace('CodeSystem-', '').replace('.html', '')\n",
    "\n",
    "    # There are a bunch of `v2-0000`-syntax code systems. Descriptive aliases would be better,\n",
    "    # so use the text from the code system page for these instead\n",
    "    if re.match(r\"^v2-[0-9]+$\", l.alias):\n",
    "        # Allowlist for characters in the alias\n",
    "        name_for_alias = re.sub(r'[^a-zA-Z0-9\\-]', \"\", l.name)\n",
    "        l.alias = 'v2-' + name_for_alias\n",
    "\n",
    "    # Convert slash to -\n",
    "    l.alias = l.alias.replace('/', '-')\n",
    "\n",
    "    # Add leading $\n",
    "    l.alias = \"$\" + l.alias"
   ]
  },
  {
   "cell_type": "code",
   "execution_count": 6,
   "id": "69903652",
   "metadata": {},
   "outputs": [],
   "source": [
    "# Helper function to generate the files containing FSH aliases\n",
    "def generate_alias_file(code_systems, path, name, desc):\n",
    "    output = []\n",
    "\n",
    "    # Generate FSH\n",
    "    for i, l in enumerate(code_systems):\n",
    "        # Figure out if the alias is duplicated -- if so, increment\n",
    "        previous_duplicates = len([c for c in code_systems[0:i] if c.alias == l.alias])\n",
    "        if previous_duplicates > 0:\n",
    "            l.alias = f\"{l.alias}{previous_duplicates+1}\"\n",
    "\n",
    "        output.append(f\"Alias:   {l.alias} = {l.uri} // {l.name}\")\n",
    "\n",
    "    # Vertical alignment\n",
    "    max_equals = max([e.index('=') for e in output])\n",
    "    max_comment = max([e.index('// ') for e in output])\n",
    "    output = [e.split('=')[0].ljust(max_equals) + '=' + e.split('=')[1] for e in output]\n",
    "    output = [e.split('// ')[0].ljust(max_comment) + '// ' + e.split('// ')[1] for e in output]\n",
    "\n",
    "    # Write file\n",
    "    with open(path, \"w\") as text_file:\n",
    "        print(name, file=text_file)\n",
    "        print(desc + \"\\n\", file=text_file)\n",
    "        print(\"\\n\".join(output), file=text_file)\n",
    "\n",
    "    print(f\"{len(output)} aliases written to {path}\")"
   ]
  },
  {
   "cell_type": "markdown",
   "id": "6709c2f9",
   "metadata": {},
   "source": [
    "## Code system aliases - V2"
   ]
  },
  {
   "cell_type": "code",
   "execution_count": 7,
   "id": "65db4261",
   "metadata": {
    "tags": []
   },
   "outputs": [
    {
     "output_type": "stream",
     "name": "stdout",
     "text": [
      "424 aliases written to ../../Examples/Aliases/HL7-code-systems-V2-aliases.fsh\n"
     ]
    }
   ],
   "source": [
    "path = \"../../Examples/Aliases/HL7-code-systems-V2-aliases.fsh\"\n",
    "generate_alias_file(\n",
    "    [c for c in code_systems if c.alias.startswith('$v2-')],\n",
    "    path,\n",
    "    \"// @Name: HL7 V2 aliases (complete)\",\n",
    "    f\"// @Description: Aliases for all V2 code systems defined at https://terminology.hl7.org/codesystems.html. Generated {datetime.datetime.now().strftime('%Y-%m-%d %H:%M:%S')} by https://github.com/FSHSchool/FSHOnline-Examples/tree/main/Scripts/Aliases/HL7.ipynb. Leading $ signs are optional but are useful for visually distinguishing aliases from other names.\"\n",
    ")"
   ]
  },
  {
   "cell_type": "markdown",
   "id": "6a69a4a8",
   "metadata": {},
   "source": [
    "## Code system aliases - V3"
   ]
  },
  {
   "cell_type": "code",
   "execution_count": 8,
   "id": "1502e3d6",
   "metadata": {},
   "outputs": [
    {
     "output_type": "stream",
     "name": "stdout",
     "text": [
      "214 aliases written to ../../Examples/Aliases/HL7-code-systems-V3-aliases.fsh\n"
     ]
    }
   ],
   "source": [
    "path = \"../../Examples/Aliases/HL7-code-systems-V3-aliases.fsh\"\n",
    "generate_alias_file(\n",
    "    [c for c in code_systems if c.alias.startswith('$v3-')],\n",
    "    path,\n",
    "    \"// @Name: HL7 V3 aliases (complete)\",\n",
    "    f\"// @Description: Aliases for all V3 code systems defined at https://terminology.hl7.org/codesystems.html. Generated {datetime.datetime.now().strftime('%Y-%m-%d %H:%M:%S')} by https://github.com/FSHSchool/FSHOnline-Examples/tree/main/Scripts/Aliases/HL7.ipynb. Leading $ signs are optional but are useful for visually distinguishing aliases from other names.\"\n",
    ")"
   ]
  },
  {
   "cell_type": "markdown",
   "id": "3c52dd15",
   "metadata": {},
   "source": [
    "## Code system aliases - all other"
   ]
  },
  {
   "cell_type": "code",
   "execution_count": 9,
   "id": "9a656b9f",
   "metadata": {},
   "outputs": [
    {
     "output_type": "stream",
     "name": "stdout",
     "text": [
      "451 aliases written to ../../Examples/Aliases/HL7-code-systems-other-aliases.fsh\n"
     ]
    }
   ],
   "source": [
    "path = \"../../Examples/Aliases/HL7-code-systems-other-aliases.fsh\"\n",
    "generate_alias_file(\n",
    "    [c for c in code_systems if not c.alias.startswith('$v3-') and not c.alias.startswith('$v2-')],\n",
    "    path,\n",
    "    \"// @Name: HL7 other aliases (complete)\",\n",
    "    f\"// @Description: Aliases for all code systems defined at https://terminology.hl7.org/codesystems.html that are not part of V2 or V3. Generated {datetime.datetime.now().strftime('%Y-%m-%d %H:%M:%S')} by https://github.com/FSHSchool/FSHOnline-Examples/tree/main/Scripts/Aliases/HL7.ipynb. Leading $ signs are optional but are useful for visually distinguishing aliases from other names.\"\n",
    ")"
   ]
  },
  {
   "cell_type": "code",
   "execution_count": null,
   "metadata": {},
   "outputs": [],
   "source": []
  }
 ],
 "metadata": {
  "kernelspec": {
   "name": "python3",
   "display_name": "Python 3.9.5 64-bit ('Aliases-ThvkuffE': venv)"
  },
  "language_info": {
   "codemirror_mode": {
    "name": "ipython",
    "version": 3
   },
   "file_extension": ".py",
   "mimetype": "text/x-python",
   "name": "python",
   "nbconvert_exporter": "python",
   "pygments_lexer": "ipython3",
   "version": "3.9.5"
  },
  "interpreter": {
   "hash": "2bec22352dfc440adadc4a94fce8c08d62d972e232a58d44637843e37dc0c0ba"
  }
 },
 "nbformat": 4,
 "nbformat_minor": 5
}